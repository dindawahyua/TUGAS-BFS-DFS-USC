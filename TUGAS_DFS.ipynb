{
  "nbformat": 4,
  "nbformat_minor": 0,
  "metadata": {
    "colab": {
      "name": "TUGAS DFS",
      "provenance": [],
      "collapsed_sections": []
    },
    "kernelspec": {
      "name": "python3",
      "display_name": "Python 3"
    },
    "language_info": {
      "name": "python"
    }
  },
  "cells": [
    {
      "cell_type": "code",
      "metadata": {
        "id": "Vsmt4He3xsRu"
      },
      "source": [
        "#munculkan grafik\n",
        "adj_list = {\n",
        "    \"A\":[\"B\", \"C\"],\n",
        "    \"B\":[\"D\", \"E\"],\n",
        "    \"C\":[\"B\", \"F\"],\n",
        "    \"D\":[],\n",
        "    \"E\":[\"F\"],\n",
        "    \"F\":[]\n",
        "}"
      ],
      "execution_count": 1,
      "outputs": []
    },
    {
      "cell_type": "code",
      "metadata": {
        "colab": {
          "base_uri": "https://localhost:8080/"
        },
        "id": "1y-eyzY6xvNz",
        "outputId": "f22b56b8-ed04-4454-92b4-e46ac2c0c2e2"
      },
      "source": [
        "#array dan dictionary\n",
        "color = {} #W , G, B\n",
        "parent = {}\n",
        "trav_time = {} # [start, end]\n",
        "dfs_traversal_output = []\n",
        "\n",
        "#inisiasi\n",
        "for node in adj_list.keys():\n",
        "  color[node] = \"W\"\n",
        "  parent[node] = None\n",
        "  trav_time[node] = [-1, -1]\n",
        "time = 0 \n",
        "def dfs_util(u):\n",
        "  global time\n",
        "  color[u] = \"G\"\n",
        "  trav_time[u][0] = time\n",
        "  dfs_traversal_output.append(u)\n",
        "  time += 1\n",
        "  for v in adj_list[u]:\n",
        "    if color[v] == \"W\":\n",
        "      parent[v] = u\n",
        "      dfs_util(v)\n",
        "  color[u] = \"B\"\n",
        "  trav_time[u][1] = time\n",
        "  time +=1\n",
        "\n",
        "dfs_util(\"A\")\n",
        "print (dfs_traversal_output)\n",
        "print(parent)\n",
        "print(trav_time)"
      ],
      "execution_count": 2,
      "outputs": [
        {
          "output_type": "stream",
          "name": "stdout",
          "text": [
            "['A', 'B', 'D', 'E', 'F', 'C']\n",
            "{'A': None, 'B': 'A', 'C': 'A', 'D': 'B', 'E': 'B', 'F': 'E'}\n",
            "{'A': [0, 11], 'B': [1, 8], 'C': [9, 10], 'D': [2, 3], 'E': [4, 7], 'F': [5, 6]}\n"
          ]
        }
      ]
    },
    {
      "cell_type": "code",
      "metadata": {
        "colab": {
          "base_uri": "https://localhost:8080/"
        },
        "id": "f-zxxQ6Yx0Kq",
        "outputId": "89aa6e97-70d0-4b32-df70-9b358a65f7e3"
      },
      "source": [
        "for node in adj_list.keys():\n",
        "  print (node, \"->\", trav_time[node])"
      ],
      "execution_count": 3,
      "outputs": [
        {
          "output_type": "stream",
          "name": "stdout",
          "text": [
            "A -> [0, 11]\n",
            "B -> [1, 8]\n",
            "C -> [9, 10]\n",
            "D -> [2, 3]\n",
            "E -> [4, 7]\n",
            "F -> [5, 6]\n"
          ]
        }
      ]
    },
    {
      "cell_type": "code",
      "metadata": {
        "id": "WJ2rSSKxx3Wj"
      },
      "source": [
        ""
      ],
      "execution_count": null,
      "outputs": []
    }
  ]
}