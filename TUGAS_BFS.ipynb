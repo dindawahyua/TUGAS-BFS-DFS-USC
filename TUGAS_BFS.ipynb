{
  "nbformat": 4,
  "nbformat_minor": 0,
  "metadata": {
    "colab": {
      "name": "TUGAS BFS",
      "provenance": [],
      "collapsed_sections": []
    },
    "kernelspec": {
      "name": "python3",
      "display_name": "Python 3"
    },
    "language_info": {
      "name": "python"
    }
  },
  "cells": [
    {
      "cell_type": "code",
      "metadata": {
        "id": "q6qzyLw4vYlu"
      },
      "source": [
        "from queue import Queue\n",
        "\n",
        "adj_list = {\n",
        "    \"A\":[\"B\", \"D\"],\n",
        "    \"B\":[\"A\", \"C\"],\n",
        "    \"C\":[\"B\"],\n",
        "    \"D\":[\"A\", \"E\", \"F\"],\n",
        "    \"E\":[\"D\", \"F\", \"G\"],\n",
        "    \"F\":[\"D\", \"F\", \"H\"],\n",
        "    \"G\":[\"E\", \"H\"],\n",
        "    \"H\":[\"G\", \"F\"]\n",
        "}"
      ],
      "execution_count": 1,
      "outputs": []
    },
    {
      "cell_type": "code",
      "metadata": {
        "colab": {
          "base_uri": "https://localhost:8080/"
        },
        "id": "eVR0FiFjv4Fu",
        "outputId": "770ebf14-401f-4156-ca6e-e1dc74483de0"
      },
      "source": [
        "#BFS CODE\n",
        "visited = {}\n",
        "level = {} #distance dictionary\n",
        "parent = {}\n",
        "bfs_traversal_output = []\n",
        "queue = Queue()\n",
        "\n",
        "for node in adj_list.keys():\n",
        "  visited[node] = False\n",
        "  parent[node] = None\n",
        "  level[node] = -1 #inf\n",
        "\n",
        "print (visited)\n",
        "print (level)\n",
        "print (parent)\n",
        "\n",
        "s = \"A\"\n",
        "visited[s] = True\n",
        "level[s] = 0\n",
        "queue.put(s)\n",
        "\n",
        "while not queue.empty():\n",
        "  u = queue.get()\n",
        "  bfs_traversal_output.append(u)\n",
        "\n",
        "  for v in adj_list[u]:\n",
        "    if not visited[v]:\n",
        "      visited[v] = True\n",
        "      parent[v] = u\n",
        "      level[v] = level[u]+1\n",
        "      queue.put(v)\n",
        "print (bfs_traversal_output)"
      ],
      "execution_count": 2,
      "outputs": [
        {
          "output_type": "stream",
          "name": "stdout",
          "text": [
            "{'A': False, 'B': False, 'C': False, 'D': False, 'E': False, 'F': False, 'G': False, 'H': False}\n",
            "{'A': -1, 'B': -1, 'C': -1, 'D': -1, 'E': -1, 'F': -1, 'G': -1, 'H': -1}\n",
            "{'A': None, 'B': None, 'C': None, 'D': None, 'E': None, 'F': None, 'G': None, 'H': None}\n",
            "['A', 'B', 'D', 'C', 'E', 'F', 'G', 'H']\n"
          ]
        }
      ]
    },
    {
      "cell_type": "code",
      "metadata": {
        "colab": {
          "base_uri": "https://localhost:8080/"
        },
        "id": "esTISGjRwBAK",
        "outputId": "fcb23a88-87f6-472b-da61-a24298bf910c"
      },
      "source": [
        "#jarak terdekat dari semua node\n",
        "print (level)\n",
        "print (level [\"G\"])"
      ],
      "execution_count": 3,
      "outputs": [
        {
          "output_type": "stream",
          "name": "stdout",
          "text": [
            "{'A': 0, 'B': 1, 'C': 2, 'D': 1, 'E': 2, 'F': 2, 'G': 3, 'H': 3}\n",
            "3\n"
          ]
        }
      ]
    },
    {
      "cell_type": "code",
      "metadata": {
        "colab": {
          "base_uri": "https://localhost:8080/"
        },
        "id": "eOoAfcw8wFzh",
        "outputId": "27afe121-2ef2-48ac-d5e6-923b6f0fd0c0"
      },
      "source": [
        "#jarak path terdekat dari semua node\n",
        "v = \"G\"\n",
        "path = []\n",
        "while v is not None:\n",
        "  path.append(v)\n",
        "  v = parent[v]\n",
        "path.reverse()\n",
        "print (path)"
      ],
      "execution_count": 4,
      "outputs": [
        {
          "output_type": "stream",
          "name": "stdout",
          "text": [
            "['A', 'D', 'E', 'G']\n"
          ]
        }
      ]
    },
    {
      "cell_type": "code",
      "metadata": {
        "id": "lGDvoqnIwJhf"
      },
      "source": [
        ""
      ],
      "execution_count": null,
      "outputs": []
    }
  ]
}